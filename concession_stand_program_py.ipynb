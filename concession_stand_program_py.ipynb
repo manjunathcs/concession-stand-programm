{
  "nbformat": 4,
  "nbformat_minor": 0,
  "metadata": {
    "colab": {
      "provenance": [],
      "authorship_tag": "ABX9TyNd5NWQt5XsBlwj3x8WJu8E",
      "include_colab_link": true
    },
    "kernelspec": {
      "name": "python3",
      "display_name": "Python 3"
    },
    "language_info": {
      "name": "python"
    }
  },
  "cells": [
    {
      "cell_type": "markdown",
      "metadata": {
        "id": "view-in-github",
        "colab_type": "text"
      },
      "source": [
        "<a href=\"https://colab.research.google.com/github/manjunathcs/concession-stand-programm/blob/main/concession_stand_program_py.ipynb\" target=\"_parent\"><img src=\"https://colab.research.google.com/assets/colab-badge.svg\" alt=\"Open In Colab\"/></a>"
      ]
    },
    {
      "cell_type": "code",
      "source": [
        "menu={\"pizza\":100,\n",
        "      \"briyani\":200,\n",
        "      \"chocolate\":150,\n",
        "      \"popcorn\":80}\n",
        "\n",
        "\n",
        "cart=[]\n",
        "total=0\n",
        "\n",
        "print(\"-----------MENU-------------\")\n",
        "\n",
        "for key,values in menu.items():\n",
        "  print(f\"{key:10}:Rs{values:.2f}\")\n",
        "while True:\n",
        "  food=input(\"enter the item (q for quit)\").lower()\n",
        "  if food==\"q\":\n",
        "    break\n",
        "  elif menu.get(food) is not None:\n",
        "    cart.append(food)\n",
        "\n",
        "for food in cart:\n",
        "  total+=menu.get(food)\n",
        "  print(food,end=\" \")\n",
        "print()\n",
        "print(f\"total bill is :Rs {total}\")\n",
        "\n",
        "\n"
      ],
      "metadata": {
        "colab": {
          "base_uri": "https://localhost:8080/"
        },
        "id": "PU7nIXbb1aul",
        "outputId": "a354e926-7edc-477f-d882-390c9296515a"
      },
      "execution_count": 32,
      "outputs": [
        {
          "output_type": "stream",
          "name": "stdout",
          "text": [
            "-----------MENU-------------\n",
            "pizza     :Rs100.00\n",
            "briyani   :Rs200.00\n",
            "chocolate :Rs150.00\n",
            "popcorn   :Rs80.00\n",
            "enter the item (q for quit)pizza\n",
            "enter the item (q for quit)briyani\n",
            "enter the item (q for quit)popcorn\n",
            "enter the item (q for quit)q\n",
            "pizza briyani popcorn \n",
            "total bill is :Rs 380\n"
          ]
        }
      ]
    },
    {
      "cell_type": "code",
      "source": [
        "q"
      ],
      "metadata": {
        "id": "VZJh6Y7LIZe_"
      },
      "execution_count": null,
      "outputs": []
    },
    {
      "cell_type": "code",
      "source": [],
      "metadata": {
        "id": "e5kOxU19IZiY"
      },
      "execution_count": null,
      "outputs": []
    },
    {
      "cell_type": "code",
      "source": [],
      "metadata": {
        "id": "X2n9fuf81GOA"
      },
      "execution_count": null,
      "outputs": []
    },
    {
      "cell_type": "code",
      "source": [],
      "metadata": {
        "id": "wuSMpDP21GP6"
      },
      "execution_count": null,
      "outputs": []
    },
    {
      "cell_type": "code",
      "source": [],
      "metadata": {
        "id": "5zMyaQ891GR1"
      },
      "execution_count": null,
      "outputs": []
    },
    {
      "cell_type": "code",
      "source": [],
      "metadata": {
        "id": "15HQaHCe1GT_"
      },
      "execution_count": null,
      "outputs": []
    },
    {
      "cell_type": "code",
      "source": [],
      "metadata": {
        "id": "L3cmVJH01GXd"
      },
      "execution_count": null,
      "outputs": []
    }
  ]
}